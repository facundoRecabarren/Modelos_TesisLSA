{
 "cells": [
  {
   "cell_type": "code",
   "execution_count": 42,
   "id": "e44d33a9",
   "metadata": {},
   "outputs": [
    {
     "name": "stdout",
     "output_type": "stream",
     "text": [
      "Collecting fastparquet\n",
      "  Downloading fastparquet-2023.1.0-cp38-cp38-win_amd64.whl (628 kB)\n",
      "     -------------------------------------- 629.0/629.0 kB 6.7 MB/s eta 0:00:00\n",
      "Requirement already satisfied: packaging in c:\\users\\facur\\appdata\\local\\programs\\python\\python38\\lib\\site-packages (from fastparquet) (20.9)\n",
      "Collecting cramjam>=2.3\n",
      "  Downloading cramjam-2.6.2-cp38-none-win_amd64.whl (1.2 MB)\n",
      "     ---------------------------------------- 1.2/1.2 MB 26.3 MB/s eta 0:00:00\n",
      "Requirement already satisfied: pandas>=1.5.0 in c:\\users\\facur\\appdata\\local\\programs\\python\\python38\\lib\\site-packages (from fastparquet) (1.5.3)\n",
      "Requirement already satisfied: numpy>=1.20.3 in c:\\users\\facur\\appdata\\local\\programs\\python\\python38\\lib\\site-packages (from fastparquet) (1.24.1)\n",
      "Collecting fsspec\n",
      "  Downloading fsspec-2023.1.0-py3-none-any.whl (143 kB)\n",
      "     ---------------------------------------- 143.0/143.0 kB ? eta 0:00:00\n",
      "Requirement already satisfied: pytz>=2020.1 in c:\\users\\facur\\appdata\\local\\programs\\python\\python38\\lib\\site-packages (from pandas>=1.5.0->fastparquet) (2022.2.1)\n",
      "Requirement already satisfied: python-dateutil>=2.8.1 in c:\\users\\facur\\appdata\\local\\programs\\python\\python38\\lib\\site-packages (from pandas>=1.5.0->fastparquet) (2.8.2)\n",
      "Requirement already satisfied: pyparsing>=2.0.2 in c:\\users\\facur\\appdata\\local\\programs\\python\\python38\\lib\\site-packages (from packaging->fastparquet) (3.0.9)\n",
      "Requirement already satisfied: six>=1.5 in c:\\users\\facur\\appdata\\local\\programs\\python\\python38\\lib\\site-packages (from python-dateutil>=2.8.1->pandas>=1.5.0->fastparquet) (1.15.0)\n",
      "Installing collected packages: fsspec, cramjam, fastparquet\n",
      "Successfully installed cramjam-2.6.2 fastparquet-2023.1.0 fsspec-2023.1.0\n"
     ]
    }
   ],
   "source": [
    "# !pip install pandas\n",
    "!pip install fastparquet"
   ]
  },
  {
   "cell_type": "code",
   "execution_count": 2,
   "id": "7cd2f6ce",
   "metadata": {},
   "outputs": [],
   "source": [
    "import os\n",
    "import numpy as np\n",
    "import pandas as pd"
   ]
  },
  {
   "cell_type": "code",
   "execution_count": 44,
   "id": "ffbe1617",
   "metadata": {},
   "outputs": [],
   "source": [
    "face_points = 468\n",
    "pose_points = 33\n",
    "left_hand_points = 21\n",
    "right_hand_points = 21"
   ]
  },
  {
   "cell_type": "markdown",
   "id": "72b4c3f2",
   "metadata": {},
   "source": [
    "# Definicion de Columnas"
   ]
  },
  {
   "cell_type": "code",
   "execution_count": 45,
   "id": "04b0cbb2",
   "metadata": {},
   "outputs": [
    {
     "name": "stdout",
     "output_type": "stream",
     "text": [
      "ready\n"
     ]
    }
   ],
   "source": [
    "point_columns = []\n",
    "for index in range (face_points):\n",
    "    point_columns.append(f'''face_p{index}_x''')\n",
    "    point_columns.append(f'''face_p{index}_y''')\n",
    "\n",
    "for index in range (pose_points):\n",
    "    point_columns.append(f'''pose_p{index}_x''')\n",
    "    point_columns.append(f'''pose_p{index}_y''')\n",
    "\n",
    "for index in range (left_hand_points):\n",
    "    point_columns.append(f'''left_hand_p{index}_x''')\n",
    "    point_columns.append(f'''left_hand_p{index}_y''')\n",
    "\n",
    "for index in range (right_hand_points):\n",
    "    point_columns.append(f'''right_hand_p{index}_x''')\n",
    "    point_columns.append(f'''right_hand_p{index}_y''')\n",
    "\n",
    "point_columns.append(\"sign\")\n",
    "\n",
    "print(\"ready\")"
   ]
  },
  {
   "cell_type": "markdown",
   "id": "37c6c687",
   "metadata": {},
   "source": [
    "# Construcción de Dataframe\n",
    "\n",
    "Al momento de armar el parquet con los datos originales, como estos ocupan mucha memoria en principio, se serparó la lista de señas en 2 conjuntos, con el objetivo de armar 2 parquet que luego son concatenados para armar uno solo.\n",
    "Los datos originales usados para armar el parquet ocupan 5GB descomprimidos.\n",
    "Luego con el armado del parquet este alcanza un tamaño de 500MB"
   ]
  },
  {
   "cell_type": "code",
   "execution_count": 7,
   "id": "2cbccb39",
   "metadata": {},
   "outputs": [],
   "source": [
    "def build_parquet(name_to_store):\n",
    "    data_frame_rows = []\n",
    "    print(f\"Armando parquet: {name_to_store}\")\n",
    "    for sign in range(len(signs_list)):\n",
    "        for personNumber in range(numberOfPersons):\n",
    "            for videoNumber in range(numberOfVideosPerPerson):\n",
    "                results = np.load(os.path.join('./LSA64_data', signs_list[sign], f'''0{str(personNumber)}_0{str(videoNumber)}.npy'''))\n",
    "                for frame in results:\n",
    "                  arr = [i for i in frame]\n",
    "                  arr.append(signs_list[sign])\n",
    "                  data_frame_rows.append(arr)\n",
    "    videos_dataframe = pd.DataFrame(data_frame_rows,columns=point_columns)\n",
    "    videos_dataframe.to_parquet(os.path.join(f'./${name_to_store}'))\n",
    "    print(f\"Parquet almacenado: {name_to_store}\")"
   ]
  },
  {
   "cell_type": "code",
   "execution_count": 6,
   "id": "84aa2d32",
   "metadata": {},
   "outputs": [
    {
     "name": "stdout",
     "output_type": "stream",
     "text": [
      "Armando parquet: $nacer-amargo\n"
     ]
    },
    {
     "ename": "KeyboardInterrupt",
     "evalue": "",
     "output_type": "error",
     "traceback": [
      "\u001b[1;31m---------------------------------------------------------------------------\u001b[0m",
      "\u001b[1;31mKeyboardInterrupt\u001b[0m                         Traceback (most recent call last)",
      "Cell \u001b[1;32mIn [6], line 5\u001b[0m\n\u001b[0;32m      3\u001b[0m numberOfVideosPerPerson \u001b[38;5;241m=\u001b[39m \u001b[38;5;241m5\u001b[39m\n\u001b[0;32m      4\u001b[0m signs_list \u001b[38;5;241m=\u001b[39m [\u001b[38;5;124m'\u001b[39m\u001b[38;5;124mnacer\u001b[39m\u001b[38;5;124m'\u001b[39m,\u001b[38;5;124m'\u001b[39m\u001b[38;5;124mcomida\u001b[39m\u001b[38;5;124m'\u001b[39m,\u001b[38;5;124m'\u001b[39m\u001b[38;5;124mbrillante\u001b[39m\u001b[38;5;124m'\u001b[39m, \u001b[38;5;124m'\u001b[39m\u001b[38;5;124mmujer\u001b[39m\u001b[38;5;124m'\u001b[39m, \u001b[38;5;124m'\u001b[39m\u001b[38;5;124mhijo\u001b[39m\u001b[38;5;124m'\u001b[39m, \u001b[38;5;124m'\u001b[39m\u001b[38;5;124mhombre\u001b[39m\u001b[38;5;124m'\u001b[39m, \u001b[38;5;124m'\u001b[39m\u001b[38;5;124mlejos\u001b[39m\u001b[38;5;124m'\u001b[39m, \u001b[38;5;124m'\u001b[39m\u001b[38;5;124maprender\u001b[39m\u001b[38;5;124m'\u001b[39m, \u001b[38;5;124m'\u001b[39m\u001b[38;5;124mespumadera\u001b[39m\u001b[38;5;124m'\u001b[39m,\u001b[38;5;124m'\u001b[39m\u001b[38;5;124mamargo\u001b[39m\u001b[38;5;124m'\u001b[39m]\n\u001b[1;32m----> 5\u001b[0m \u001b[43mbuild_parquet\u001b[49m\u001b[43m(\u001b[49m\u001b[38;5;124;43m'\u001b[39;49m\u001b[38;5;124;43mnacer-amargo\u001b[39;49m\u001b[38;5;124;43m'\u001b[39;49m\u001b[43m)\u001b[49m\n\u001b[0;32m      7\u001b[0m signs_list \u001b[38;5;241m=\u001b[39m [\u001b[38;5;124m'\u001b[39m\u001b[38;5;124mleche\u001b[39m\u001b[38;5;124m'\u001b[39m,\u001b[38;5;124m'\u001b[39m\u001b[38;5;124mUruguay\u001b[39m\u001b[38;5;124m'\u001b[39m,\u001b[38;5;124m'\u001b[39m\u001b[38;5;124mpais\u001b[39m\u001b[38;5;124m'\u001b[39m,\u001b[38;5;124m'\u001b[39m\u001b[38;5;124mdonde\u001b[39m\u001b[38;5;124m'\u001b[39m,\u001b[38;5;124m'\u001b[39m\u001b[38;5;124mninguno\u001b[39m\u001b[38;5;124m'\u001b[39m,\u001b[38;5;124m'\u001b[39m\u001b[38;5;124mnombre\u001b[39m\u001b[38;5;124m'\u001b[39m,\u001b[38;5;124m'\u001b[39m\u001b[38;5;124mperfume\u001b[39m\u001b[38;5;124m'\u001b[39m,\u001b[38;5;124m'\u001b[39m\u001b[38;5;124msordo\u001b[39m\u001b[38;5;124m'\u001b[39m,\u001b[38;5;124m'\u001b[39m\u001b[38;5;124mcomprar\u001b[39m\u001b[38;5;124m'\u001b[39m,\u001b[38;5;124m'\u001b[39m\u001b[38;5;124mencontrar\u001b[39m\u001b[38;5;124m'\u001b[39m, \u001b[38;5;124m'\u001b[39m\u001b[38;5;124mnave espacial\u001b[39m\u001b[38;5;124m'\u001b[39m]\n\u001b[0;32m      8\u001b[0m build_parquet(\u001b[38;5;124m'\u001b[39m\u001b[38;5;124mleche-nave_escpacial\u001b[39m\u001b[38;5;124m'\u001b[39m)\n",
      "Cell \u001b[1;32mIn [5], line 9\u001b[0m, in \u001b[0;36mbuild_parquet\u001b[1;34m(name_to_store)\u001b[0m\n\u001b[0;32m      7\u001b[0m results \u001b[38;5;241m=\u001b[39m np\u001b[38;5;241m.\u001b[39mload(os\u001b[38;5;241m.\u001b[39mpath\u001b[38;5;241m.\u001b[39mjoin(\u001b[38;5;124m'\u001b[39m\u001b[38;5;124m./LSA64_data\u001b[39m\u001b[38;5;124m'\u001b[39m, signs_list[sign], \u001b[38;5;124mf\u001b[39m\u001b[38;5;124m'''\u001b[39m\u001b[38;5;124m0\u001b[39m\u001b[38;5;132;01m{\u001b[39;00m\u001b[38;5;28mstr\u001b[39m(personNumber)\u001b[38;5;132;01m}\u001b[39;00m\u001b[38;5;124m_0\u001b[39m\u001b[38;5;132;01m{\u001b[39;00m\u001b[38;5;28mstr\u001b[39m(videoNumber)\u001b[38;5;132;01m}\u001b[39;00m\u001b[38;5;124m.npy\u001b[39m\u001b[38;5;124m'''\u001b[39m))\n\u001b[0;32m      8\u001b[0m \u001b[38;5;28;01mfor\u001b[39;00m frame \u001b[38;5;129;01min\u001b[39;00m results:\n\u001b[1;32m----> 9\u001b[0m   arr \u001b[38;5;241m=\u001b[39m [i \u001b[38;5;28;01mfor\u001b[39;00m i \u001b[38;5;129;01min\u001b[39;00m frame]\n\u001b[0;32m     10\u001b[0m   arr\u001b[38;5;241m.\u001b[39mappend(signs_list[sign])\n\u001b[0;32m     11\u001b[0m   data_frame_rows\u001b[38;5;241m.\u001b[39mappend(arr)\n",
      "Cell \u001b[1;32mIn [5], line 9\u001b[0m, in \u001b[0;36m<listcomp>\u001b[1;34m(.0)\u001b[0m\n\u001b[0;32m      7\u001b[0m results \u001b[38;5;241m=\u001b[39m np\u001b[38;5;241m.\u001b[39mload(os\u001b[38;5;241m.\u001b[39mpath\u001b[38;5;241m.\u001b[39mjoin(\u001b[38;5;124m'\u001b[39m\u001b[38;5;124m./LSA64_data\u001b[39m\u001b[38;5;124m'\u001b[39m, signs_list[sign], \u001b[38;5;124mf\u001b[39m\u001b[38;5;124m'''\u001b[39m\u001b[38;5;124m0\u001b[39m\u001b[38;5;132;01m{\u001b[39;00m\u001b[38;5;28mstr\u001b[39m(personNumber)\u001b[38;5;132;01m}\u001b[39;00m\u001b[38;5;124m_0\u001b[39m\u001b[38;5;132;01m{\u001b[39;00m\u001b[38;5;28mstr\u001b[39m(videoNumber)\u001b[38;5;132;01m}\u001b[39;00m\u001b[38;5;124m.npy\u001b[39m\u001b[38;5;124m'''\u001b[39m))\n\u001b[0;32m      8\u001b[0m \u001b[38;5;28;01mfor\u001b[39;00m frame \u001b[38;5;129;01min\u001b[39;00m results:\n\u001b[1;32m----> 9\u001b[0m   arr \u001b[38;5;241m=\u001b[39m [i \u001b[38;5;28;01mfor\u001b[39;00m i \u001b[38;5;129;01min\u001b[39;00m frame]\n\u001b[0;32m     10\u001b[0m   arr\u001b[38;5;241m.\u001b[39mappend(signs_list[sign])\n\u001b[0;32m     11\u001b[0m   data_frame_rows\u001b[38;5;241m.\u001b[39mappend(arr)\n",
      "\u001b[1;31mKeyboardInterrupt\u001b[0m: "
     ]
    }
   ],
   "source": [
    "#DEFINICION DE SEÑAS A UTILIZAR\n",
    "numberOfPersons = 10\n",
    "numberOfVideosPerPerson = 5\n",
    "signs_list = ['nacer','comida','brillante', 'mujer', 'hijo', 'hombre', 'lejos', 'aprender', 'espumadera','amargo']\n",
    "build_parquet('nacer-amargo')\n",
    "\n",
    "signs_list = ['leche','Uruguay','pais','donde','ninguno','nombre','perfume','sordo','comprar','encontrar', 'nave espacial']\n",
    "build_parquet('leche-nave_escpacial')"
   ]
  },
  {
   "cell_type": "code",
   "execution_count": 52,
   "id": "89d26d0f",
   "metadata": {},
   "outputs": [
    {
     "name": "stdout",
     "output_type": "stream",
     "text": [
      "100500\n",
      "1087\n"
     ]
    }
   ],
   "source": [
    "# videos_dataframe[:'right_hand_p20_x']\n",
    "print(len(videos_dataframe.axes[0]))\n",
    "print(len(videos_dataframe.axes[1]))"
   ]
  },
  {
   "cell_type": "code",
   "execution_count": 8,
   "id": "ad056559",
   "metadata": {},
   "outputs": [],
   "source": [
    "dataframe1 = pd.read_parquet(os.path.join('./nacer-amargo'))\n",
    "dataframe2 = pd.read_parquet(os.path.join('./leche-nave_espacial'))\n",
    "concatenated_dataframes = pd.concat([dataframe1, dataframe2], axis=0, ignore_index=True)\n",
    "concatenated_dataframes.to_parquet(os.path.join('parquet_final'))"
   ]
  },
  {
   "cell_type": "code",
   "execution_count": 9,
   "id": "ab0c4166",
   "metadata": {},
   "outputs": [
    {
     "name": "stdout",
     "output_type": "stream",
     "text": [
      "211050\n",
      "1087\n"
     ]
    }
   ],
   "source": [
    "print(len(concatenated_dataframes.axes[0]))\n",
    "print(len(concatenated_dataframes.axes[1]))"
   ]
  },
  {
   "cell_type": "code",
   "execution_count": 69,
   "id": "ae5b77d7",
   "metadata": {},
   "outputs": [
    {
     "data": {
      "text/html": [
       "<div>\n",
       "<style scoped>\n",
       "    .dataframe tbody tr th:only-of-type {\n",
       "        vertical-align: middle;\n",
       "    }\n",
       "\n",
       "    .dataframe tbody tr th {\n",
       "        vertical-align: top;\n",
       "    }\n",
       "\n",
       "    .dataframe thead th {\n",
       "        text-align: right;\n",
       "    }\n",
       "</style>\n",
       "<table border=\"1\" class=\"dataframe\">\n",
       "  <thead>\n",
       "    <tr style=\"text-align: right;\">\n",
       "      <th></th>\n",
       "      <th>face_p0_x</th>\n",
       "      <th>face_p0_y</th>\n",
       "      <th>face_p1_x</th>\n",
       "      <th>face_p1_y</th>\n",
       "      <th>face_p2_x</th>\n",
       "      <th>face_p2_y</th>\n",
       "      <th>face_p3_x</th>\n",
       "      <th>face_p3_y</th>\n",
       "      <th>face_p4_x</th>\n",
       "      <th>face_p4_y</th>\n",
       "      <th>...</th>\n",
       "      <th>right_hand_p16_y</th>\n",
       "      <th>right_hand_p17_x</th>\n",
       "      <th>right_hand_p17_y</th>\n",
       "      <th>right_hand_p18_x</th>\n",
       "      <th>right_hand_p18_y</th>\n",
       "      <th>right_hand_p19_x</th>\n",
       "      <th>right_hand_p19_y</th>\n",
       "      <th>right_hand_p20_x</th>\n",
       "      <th>right_hand_p20_y</th>\n",
       "      <th>sign</th>\n",
       "    </tr>\n",
       "  </thead>\n",
       "  <tbody>\n",
       "    <tr>\n",
       "      <th>50249</th>\n",
       "      <td>3.0</td>\n",
       "      <td>3.0</td>\n",
       "      <td>3.0</td>\n",
       "      <td>3.0</td>\n",
       "      <td>3.0</td>\n",
       "      <td>3.0</td>\n",
       "      <td>3.0</td>\n",
       "      <td>3.0</td>\n",
       "      <td>3.0</td>\n",
       "      <td>3.0</td>\n",
       "      <td>...</td>\n",
       "      <td>3.0</td>\n",
       "      <td>3.0</td>\n",
       "      <td>3.0</td>\n",
       "      <td>3.0</td>\n",
       "      <td>3.0</td>\n",
       "      <td>3.0</td>\n",
       "      <td>3.0</td>\n",
       "      <td>3.0</td>\n",
       "      <td>3.0</td>\n",
       "      <td>hijo</td>\n",
       "    </tr>\n",
       "  </tbody>\n",
       "</table>\n",
       "<p>1 rows × 1087 columns</p>\n",
       "</div>"
      ],
      "text/plain": [
       "       face_p0_x  face_p0_y  face_p1_x  face_p1_y  face_p2_x  face_p2_y  \\\n",
       "50249        3.0        3.0        3.0        3.0        3.0        3.0   \n",
       "\n",
       "       face_p3_x  face_p3_y  face_p4_x  face_p4_y  ...  right_hand_p16_y  \\\n",
       "50249        3.0        3.0        3.0        3.0  ...               3.0   \n",
       "\n",
       "       right_hand_p17_x  right_hand_p17_y  right_hand_p18_x  right_hand_p18_y  \\\n",
       "50249               3.0               3.0               3.0               3.0   \n",
       "\n",
       "       right_hand_p19_x  right_hand_p19_y  right_hand_p20_x  right_hand_p20_y  \\\n",
       "50249               3.0               3.0               3.0               3.0   \n",
       "\n",
       "       sign  \n",
       "50249  hijo  \n",
       "\n",
       "[1 rows x 1087 columns]"
      ]
     },
     "execution_count": 69,
     "metadata": {},
     "output_type": "execute_result"
    }
   ],
   "source": [
    "concatenated_dataframes.iloc[[50249]]"
   ]
  }
 ],
 "metadata": {
  "kernelspec": {
   "display_name": "Python 3 (ipykernel)",
   "language": "python",
   "name": "python3"
  },
  "language_info": {
   "codemirror_mode": {
    "name": "ipython",
    "version": 3
   },
   "file_extension": ".py",
   "mimetype": "text/x-python",
   "name": "python",
   "nbconvert_exporter": "python",
   "pygments_lexer": "ipython3",
   "version": "3.8.10"
  }
 },
 "nbformat": 4,
 "nbformat_minor": 5
}
